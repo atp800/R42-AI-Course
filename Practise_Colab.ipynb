{
  "nbformat": 4,
  "nbformat_minor": 0,
  "metadata": {
    "colab": {
      "name": "Practise Colab.ipynb",
      "provenance": [],
      "collapsed_sections": [],
      "authorship_tag": "ABX9TyMqFTN8122w3B7Zr3PvD/X/",
      "include_colab_link": true
    },
    "kernelspec": {
      "name": "python3",
      "display_name": "Python 3"
    }
  },
  "cells": [
    {
      "cell_type": "markdown",
      "metadata": {
        "id": "view-in-github",
        "colab_type": "text"
      },
      "source": [
        "<a href=\"https://colab.research.google.com/github/atp800/R42-AI-Course/blob/master/Practise_Colab.ipynb\" target=\"_parent\"><img src=\"https://colab.research.google.com/assets/colab-badge.svg\" alt=\"Open In Colab\"/></a>"
      ]
    },
    {
      "cell_type": "markdown",
      "metadata": {
        "id": "S4_YhDwA0fAo",
        "colab_type": "text"
      },
      "source": [
        "# **Practising using Google Colab with neural networks**"
      ]
    },
    {
      "cell_type": "code",
      "metadata": {
        "id": "evbxLHfR0QpU",
        "colab_type": "code",
        "colab": {
          "base_uri": "https://localhost:8080/",
          "height": 34
        },
        "outputId": "41dfcc01-2964-46ad-e5be-176de3aef4e3"
      },
      "source": [
        "text = \"input text\"\n",
        "print(f\"{text}\")\n"
      ],
      "execution_count": null,
      "outputs": [
        {
          "output_type": "stream",
          "text": [
            "input text\n"
          ],
          "name": "stdout"
        }
      ]
    }
  ]
}